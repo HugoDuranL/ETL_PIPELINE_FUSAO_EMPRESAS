{
 "cells": [
  {
   "cell_type": "markdown",
   "id": "614aa737",
   "metadata": {},
   "source": [
    "### ABRINDO ARQUIVO JSON"
   ]
  },
  {
   "cell_type": "code",
   "execution_count": 2,
   "id": "6c1cd04c",
   "metadata": {},
   "outputs": [],
   "source": [
    "import json"
   ]
  },
  {
   "cell_type": "code",
   "execution_count": 3,
   "id": "0f5d6e8e",
   "metadata": {},
   "outputs": [],
   "source": [
    "path_json = '..\\data-raw\\dados_empresaA.json'"
   ]
  },
  {
   "cell_type": "code",
   "execution_count": 4,
   "id": "293f41ef",
   "metadata": {},
   "outputs": [],
   "source": [
    "with open(path_json, 'r') as file:\n",
    "    dados_json = json.load(file)"
   ]
  },
  {
   "cell_type": "code",
   "execution_count": 5,
   "id": "64615537",
   "metadata": {},
   "outputs": [
    {
     "data": {
      "text/plain": [
       "{'Nome do Produto': 'Blush em pó',\n",
       " 'Categoria do Produto': 'Eletrodomésticos',\n",
       " 'Preço do Produto (R$)': 79.41,\n",
       " 'Quantidade em Estoque': 7,\n",
       " 'Filial': 'Filial 7'}"
      ]
     },
     "execution_count": 5,
     "metadata": {},
     "output_type": "execute_result"
    }
   ],
   "source": [
    "dados_json[0]"
   ]
  },
  {
   "cell_type": "code",
   "execution_count": 6,
   "id": "ceab2c52",
   "metadata": {},
   "outputs": [
    {
     "data": {
      "text/plain": [
       "{'Nome do Produto': 'Lápis de sobrancelha',\n",
       " 'Categoria do Produto': 'Eletrodomésticos',\n",
       " 'Preço do Produto (R$)': 85.47,\n",
       " 'Quantidade em Estoque': 78,\n",
       " 'Filial': 'Filial 8'}"
      ]
     },
     "execution_count": 6,
     "metadata": {},
     "output_type": "execute_result"
    }
   ],
   "source": [
    "dados_json[1]"
   ]
  },
  {
   "cell_type": "code",
   "execution_count": 7,
   "id": "32876343",
   "metadata": {},
   "outputs": [
    {
     "data": {
      "text/plain": [
       "list"
      ]
     },
     "execution_count": 7,
     "metadata": {},
     "output_type": "execute_result"
    }
   ],
   "source": [
    "type(dados_json)"
   ]
  },
  {
   "cell_type": "code",
   "execution_count": 8,
   "id": "5b46262a",
   "metadata": {},
   "outputs": [
    {
     "data": {
      "text/plain": [
       "dict"
      ]
     },
     "execution_count": 8,
     "metadata": {},
     "output_type": "execute_result"
    }
   ],
   "source": [
    "type(dados_json[0])"
   ]
  },
  {
   "cell_type": "markdown",
   "id": "1551b9a5",
   "metadata": {},
   "source": [
    "### ABRINDO ARQUIVO CSV"
   ]
  },
  {
   "cell_type": "code",
   "execution_count": 9,
   "id": "799f32de",
   "metadata": {},
   "outputs": [],
   "source": [
    "import csv"
   ]
  },
  {
   "cell_type": "code",
   "execution_count": 10,
   "id": "6cd4e920",
   "metadata": {},
   "outputs": [],
   "source": [
    "path_csv = '..\\data-raw\\dados_empresaB.csv'"
   ]
  },
  {
   "cell_type": "code",
   "execution_count": 11,
   "id": "6df1807f",
   "metadata": {},
   "outputs": [],
   "source": [
    "dados_csv = []\n",
    "\n",
    "with open (path_csv, 'r', encoding = 'utf-8') as file:\n",
    "    spamreader = csv.DictReader(file, delimiter = ',')\n",
    "    for row in spamreader:\n",
    "        dados_csv.append(row)"
   ]
  },
  {
   "cell_type": "code",
   "execution_count": 12,
   "id": "e1294190",
   "metadata": {},
   "outputs": [
    {
     "data": {
      "text/plain": [
       "{'Nome do Item': 'Lápis de sobrancelha',\n",
       " 'Classificação do Produto': 'Roupas',\n",
       " 'Valor em Reais (R$)': '55.17',\n",
       " 'Quantidade em Estoque': '62',\n",
       " 'Nome da Loja': 'Filial 1',\n",
       " 'Data da Venda': '2023-04-13 18:58:06.794203'}"
      ]
     },
     "execution_count": 12,
     "metadata": {},
     "output_type": "execute_result"
    }
   ],
   "source": [
    "dados_csv[0]"
   ]
  },
  {
   "cell_type": "code",
   "execution_count": 13,
   "id": "b433efe5",
   "metadata": {},
   "outputs": [
    {
     "data": {
      "text/plain": [
       "list"
      ]
     },
     "execution_count": 13,
     "metadata": {},
     "output_type": "execute_result"
    }
   ],
   "source": [
    "type(dados_csv)"
   ]
  },
  {
   "cell_type": "code",
   "execution_count": 14,
   "id": "0ce28d24",
   "metadata": {},
   "outputs": [
    {
     "data": {
      "text/plain": [
       "dict"
      ]
     },
     "execution_count": 14,
     "metadata": {},
     "output_type": "execute_result"
    }
   ],
   "source": [
    "type(dados_csv[0])"
   ]
  },
  {
   "cell_type": "markdown",
   "id": "ea091a1e",
   "metadata": {},
   "source": [
    "### Comparando Campos"
   ]
  },
  {
   "cell_type": "code",
   "execution_count": 15,
   "id": "d0fbefda",
   "metadata": {},
   "outputs": [
    {
     "data": {
      "text/plain": [
       "['Nome do Produto',\n",
       " 'Categoria do Produto',\n",
       " 'Preço do Produto (R$)',\n",
       " 'Quantidade em Estoque',\n",
       " 'Filial']"
      ]
     },
     "execution_count": 15,
     "metadata": {},
     "output_type": "execute_result"
    }
   ],
   "source": [
    "nome_colunas_json = list(dados_json[0].keys())\n",
    "nome_colunas_json"
   ]
  },
  {
   "cell_type": "code",
   "execution_count": 16,
   "id": "64191244",
   "metadata": {},
   "outputs": [
    {
     "data": {
      "text/plain": [
       "5"
      ]
     },
     "execution_count": 16,
     "metadata": {},
     "output_type": "execute_result"
    }
   ],
   "source": [
    "len(nome_colunas_json)"
   ]
  },
  {
   "cell_type": "code",
   "execution_count": 17,
   "id": "0e909306",
   "metadata": {},
   "outputs": [
    {
     "data": {
      "text/plain": [
       "['Nome do Item',\n",
       " 'Classificação do Produto',\n",
       " 'Valor em Reais (R$)',\n",
       " 'Quantidade em Estoque',\n",
       " 'Nome da Loja',\n",
       " 'Data da Venda']"
      ]
     },
     "execution_count": 17,
     "metadata": {},
     "output_type": "execute_result"
    }
   ],
   "source": [
    "nome_colunas_csv = list(dados_csv[0].keys())\n",
    "nome_colunas_csv"
   ]
  },
  {
   "cell_type": "code",
   "execution_count": 18,
   "id": "271c2896",
   "metadata": {},
   "outputs": [
    {
     "data": {
      "text/plain": [
       "6"
      ]
     },
     "execution_count": 18,
     "metadata": {},
     "output_type": "execute_result"
    }
   ],
   "source": [
    "len(nome_colunas_csv)"
   ]
  },
  {
   "cell_type": "code",
   "execution_count": 19,
   "id": "8ebf8b35",
   "metadata": {},
   "outputs": [],
   "source": [
    "# Foi definido que manteremos os nomes da Empresa A (Arquivo JSON)"
   ]
  },
  {
   "cell_type": "code",
   "execution_count": 22,
   "id": "693c5146",
   "metadata": {},
   "outputs": [],
   "source": [
    "key_mapping = {'Nome do Item': 'Nome do Produto',\n",
    "                'Classificação do Produto':'Categoria do Produto',\n",
    "                'Valor em Reais (R$)': 'Preço do Produto (R$)',\n",
    "                'Quantidade em Estoque': 'Quantidade em Estoque',\n",
    "                'Nome da Loja': 'Filial',\n",
    "                'Data da Venda': 'Data da Venda'}"
   ]
  },
  {
   "cell_type": "code",
   "execution_count": 23,
   "id": "52423f1c",
   "metadata": {},
   "outputs": [
    {
     "data": {
      "text/plain": [
       "{'Nome do Produto': 'Lápis de sobrancelha',\n",
       " 'Categoria do Produto': 'Roupas',\n",
       " 'Preço do Produto (R$)': '55.17',\n",
       " 'Quantidade em Estoque': '62',\n",
       " 'Filial': 'Filial 1',\n",
       " 'Data da Venda': '2023-04-13 18:58:06.794203'}"
      ]
     },
     "execution_count": 23,
     "metadata": {},
     "output_type": "execute_result"
    }
   ],
   "source": [
    "new_dados_csv = []\n",
    "\n",
    "for old_dict in dados_csv:                               # Para cada valor antigo no dados_csv\n",
    "    dict_temp = {}                                       # Dicionário Temporário\n",
    "    for old_key, value in old_dict.items():              # Para Chave e Valor nos 'items' do dicionário antigo (Chave,Valor)\n",
    "        dict_temp[key_mapping[old_key]] = value          # Dicionario temp usando Chave nova 'key mapping' e procura pelo antigo valor. Depois atribui o valor dentro dessa nova chave.\n",
    "    new_dados_csv.append(dict_temp)                      # Append na nova lista\n",
    "new_dados_csv[0]\n",
    "        "
   ]
  },
  {
   "cell_type": "code",
   "execution_count": null,
   "id": "6677825b",
   "metadata": {},
   "outputs": [],
   "source": [
    "# Exemplo para explicar"
   ]
  },
  {
   "cell_type": "code",
   "execution_count": 42,
   "id": "2f9b02e9",
   "metadata": {},
   "outputs": [],
   "source": [
    "dict_1 = [{'Camisa': '10', \"Short\": '20', 'Meia': '30'}]\n",
    "dict_2 = [{'T-shirt': '40', 'shorts': '80', 'socks': '120'}]\n",
    "\n",
    "chaves_padronizadas = {'T-shirt': 'Camisa', 'shorts':'Short', 'socks':'Meia'}"
   ]
  },
  {
   "cell_type": "code",
   "execution_count": 43,
   "id": "56d68927",
   "metadata": {},
   "outputs": [
    {
     "data": {
      "text/plain": [
       "{'Camisa': '40', 'Short': '80', 'Meia': '120'}"
      ]
     },
     "execution_count": 43,
     "metadata": {},
     "output_type": "execute_result"
    }
   ],
   "source": [
    "novo_dict_2 = []\n",
    "\n",
    "for antigos_dicionarios in dict_2:\n",
    "    dict_temporario = {}\n",
    "    for chave_antiga, valor in antigos_dicionarios.items():\n",
    "        dict_temporario[chaves_padronizadas[chave_antiga]] = valor #Ex:chaves_padronizadas[T-shirt] = 'Camisa'\n",
    "    novo_dict_2.append(dict_temporario)                            # dict_temporario['Camisa']\n",
    "novo_dict_2[0]                                                     # dict_temporario['Camisa'] = 40 -> Vai criar isso"
   ]
  },
  {
   "cell_type": "markdown",
   "id": "4b8ca72f",
   "metadata": {},
   "source": [
    "### Juntando os arquivos"
   ]
  },
  {
   "cell_type": "code",
   "execution_count": 24,
   "id": "e602e731",
   "metadata": {},
   "outputs": [
    {
     "data": {
      "text/plain": [
       "3123"
      ]
     },
     "execution_count": 24,
     "metadata": {},
     "output_type": "execute_result"
    }
   ],
   "source": [
    "len(dados_json)"
   ]
  },
  {
   "cell_type": "code",
   "execution_count": 25,
   "id": "09dec02b",
   "metadata": {},
   "outputs": [
    {
     "data": {
      "text/plain": [
       "1323"
      ]
     },
     "execution_count": 25,
     "metadata": {},
     "output_type": "execute_result"
    }
   ],
   "source": [
    "len(new_dados_csv)"
   ]
  },
  {
   "cell_type": "code",
   "execution_count": 27,
   "id": "409923c2",
   "metadata": {},
   "outputs": [
    {
     "data": {
      "text/plain": [
       "4446"
      ]
     },
     "execution_count": 27,
     "metadata": {},
     "output_type": "execute_result"
    }
   ],
   "source": [
    "3123 + 1323"
   ]
  },
  {
   "cell_type": "code",
   "execution_count": 26,
   "id": "58d40ec8",
   "metadata": {},
   "outputs": [],
   "source": [
    "combined_list = []\n",
    "combined_list.extend(dados_json)\n",
    "combined_list.extend(new_dados_csv)"
   ]
  },
  {
   "cell_type": "code",
   "execution_count": 28,
   "id": "865f9a8d",
   "metadata": {},
   "outputs": [
    {
     "data": {
      "text/plain": [
       "4446"
      ]
     },
     "execution_count": 28,
     "metadata": {},
     "output_type": "execute_result"
    }
   ],
   "source": [
    "len(combined_list)"
   ]
  },
  {
   "cell_type": "code",
   "execution_count": 46,
   "id": "61b7e9c5",
   "metadata": {},
   "outputs": [
    {
     "data": {
      "text/plain": [
       "['Nome do Produto',\n",
       " 'Categoria do Produto',\n",
       " 'Preço do Produto (R$)',\n",
       " 'Quantidade em Estoque',\n",
       " 'Filial']"
      ]
     },
     "execution_count": 46,
     "metadata": {},
     "output_type": "execute_result"
    }
   ],
   "source": [
    "nomes_colunas = list(combined_list[0].keys())\n",
    "nomes_colunas"
   ]
  },
  {
   "cell_type": "code",
   "execution_count": 47,
   "id": "118a9075",
   "metadata": {},
   "outputs": [
    {
     "data": {
      "text/plain": [
       "'2022-11-21 18:58:06.794203'"
      ]
     },
     "execution_count": 47,
     "metadata": {},
     "output_type": "execute_result"
    }
   ],
   "source": [
    "combined_list[-1]['Data da Venda']"
   ]
  },
  {
   "cell_type": "code",
   "execution_count": 48,
   "id": "38d2e6e5",
   "metadata": {},
   "outputs": [
    {
     "ename": "KeyError",
     "evalue": "'Data da Venda'",
     "output_type": "error",
     "traceback": [
      "\u001b[1;31m---------------------------------------------------------------------------\u001b[0m",
      "\u001b[1;31mKeyError\u001b[0m                                  Traceback (most recent call last)",
      "\u001b[1;32m~\\AppData\\Local\\Temp\\ipykernel_9736\\2585202793.py\u001b[0m in \u001b[0;36m<module>\u001b[1;34m\u001b[0m\n\u001b[1;32m----> 1\u001b[1;33m \u001b[0mcombined_list\u001b[0m\u001b[1;33m[\u001b[0m\u001b[1;36m0\u001b[0m\u001b[1;33m]\u001b[0m\u001b[1;33m[\u001b[0m\u001b[1;34m'Data da Venda'\u001b[0m\u001b[1;33m]\u001b[0m\u001b[1;33m\u001b[0m\u001b[1;33m\u001b[0m\u001b[0m\n\u001b[0m",
      "\u001b[1;31mKeyError\u001b[0m: 'Data da Venda'"
     ]
    }
   ],
   "source": [
    "combined_list[0]['Data da Venda']"
   ]
  },
  {
   "cell_type": "code",
   "execution_count": 66,
   "id": "400ce997",
   "metadata": {},
   "outputs": [
    {
     "data": {
      "text/plain": [
       "'2022-11-21 18:58:06.794203'"
      ]
     },
     "execution_count": 66,
     "metadata": {},
     "output_type": "execute_result"
    }
   ],
   "source": [
    "combined_list[-1].get('Data da Venda')"
   ]
  },
  {
   "cell_type": "code",
   "execution_count": 67,
   "id": "d962dc57",
   "metadata": {},
   "outputs": [],
   "source": [
    "combined_list[0].get('Data da Venda') # Com o get() não dá erro, e pode colocar o valor padrão para quando não tiver"
   ]
  },
  {
   "cell_type": "code",
   "execution_count": 68,
   "id": "6d8ba55f",
   "metadata": {},
   "outputs": [
    {
     "data": {
      "text/plain": [
       "'Indisponível'"
      ]
     },
     "execution_count": 68,
     "metadata": {},
     "output_type": "execute_result"
    }
   ],
   "source": [
    "combined_list[0].get('Data da Venda', 'Indisponível')"
   ]
  },
  {
   "cell_type": "code",
   "execution_count": 69,
   "id": "f8577334",
   "metadata": {},
   "outputs": [
    {
     "data": {
      "text/plain": [
       "['Nome do Produto',\n",
       " 'Categoria do Produto',\n",
       " 'Preço do Produto (R$)',\n",
       " 'Quantidade em Estoque',\n",
       " 'Filial',\n",
       " 'Data da Venda']"
      ]
     },
     "execution_count": 69,
     "metadata": {},
     "output_type": "execute_result"
    }
   ],
   "source": [
    "nomes_colunas = list(combined_list[-1].keys())\n",
    "nomes_colunas"
   ]
  },
  {
   "cell_type": "code",
   "execution_count": 70,
   "id": "d036ddf0",
   "metadata": {},
   "outputs": [],
   "source": [
    "dados_combinados_tabela = [nomes_colunas]\n",
    "\n",
    "for row in combined_list:\n",
    "    linha = []\n",
    "    for coluna in nomes_colunas:\n",
    "        linha.append(row.get(coluna, 'Indisponível')) # Pega o valor de cada coluna da linha, se não tiver fica 'Indisponível'\n",
    "    dados_combinados_tabela.append(linha)"
   ]
  },
  {
   "cell_type": "code",
   "execution_count": 71,
   "id": "b22111d6",
   "metadata": {},
   "outputs": [
    {
     "data": {
      "text/plain": [
       "['Nome do Produto',\n",
       " 'Categoria do Produto',\n",
       " 'Preço do Produto (R$)',\n",
       " 'Quantidade em Estoque',\n",
       " 'Filial',\n",
       " 'Data da Venda']"
      ]
     },
     "execution_count": 71,
     "metadata": {},
     "output_type": "execute_result"
    }
   ],
   "source": [
    "dados_combinados_tabela[0]       # Primeira coluna é o Cabeçalho (csv)"
   ]
  },
  {
   "cell_type": "code",
   "execution_count": 72,
   "id": "2d01e717",
   "metadata": {},
   "outputs": [
    {
     "data": {
      "text/plain": [
       "['Blush em pó', 'Eletrodomésticos', 79.41, 7, 'Filial 7', 'Indisponível']"
      ]
     },
     "execution_count": 72,
     "metadata": {},
     "output_type": "execute_result"
    }
   ],
   "source": [
    "dados_combinados_tabela[1]"
   ]
  },
  {
   "cell_type": "code",
   "execution_count": 73,
   "id": "02f6217a",
   "metadata": {},
   "outputs": [
    {
     "data": {
      "text/plain": [
       "4447"
      ]
     },
     "execution_count": 73,
     "metadata": {},
     "output_type": "execute_result"
    }
   ],
   "source": [
    "len(dados_combinados_tabela)"
   ]
  },
  {
   "cell_type": "code",
   "execution_count": 77,
   "id": "0765101e",
   "metadata": {},
   "outputs": [],
   "source": [
    "path_dados_combinados = '..\\data-processed\\dados_combinados.csv'\n",
    "\n",
    "with open(path_dados_combinados, 'w', encoding = 'utf-8') as file:\n",
    "    writer = csv.writer(file)\n",
    "    writer.writerows(dados_combinados_tabela)"
   ]
  },
  {
   "cell_type": "code",
   "execution_count": null,
   "id": "69982e4f",
   "metadata": {},
   "outputs": [],
   "source": []
  }
 ],
 "metadata": {
  "kernelspec": {
   "display_name": "Python 3 (ipykernel)",
   "language": "python",
   "name": "python3"
  },
  "language_info": {
   "codemirror_mode": {
    "name": "ipython",
    "version": 3
   },
   "file_extension": ".py",
   "mimetype": "text/x-python",
   "name": "python",
   "nbconvert_exporter": "python",
   "pygments_lexer": "ipython3",
   "version": "3.9.13"
  }
 },
 "nbformat": 4,
 "nbformat_minor": 5
}
